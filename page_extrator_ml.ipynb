{
 "cells": [
  {
   "cell_type": "code",
   "execution_count": null,
   "metadata": {},
   "outputs": [],
   "source": []
  },
  {
   "cell_type": "markdown",
   "metadata": {},
   "source": [
    "# Extract artist information from new articles\n",
    "\n",
    "The objective is to get an url and fetch a news article about an artist or release. We want to classify the following elements for automatic extraction\n",
    "\n",
    "* title\n",
    "* release date\n",
    "* artist (this is about)\n",
    "* author\n",
    "\n",
    "We will focus on elements from the top\n",
    "\n",
    "## Features\n",
    "\n",
    "1. title tag similarity\n",
    "1. meta tag similarity\n",
    "1. contains a dot (.) -- punktuation\n",
    "1. enclosing tag\n",
    "1. h1 any parent tag\n",
    "1. number of words\n",
    "1. position on the page (order of tags with text)\n",
    "1. tag class derived something\n"
   ]
  },
  {
   "cell_type": "code",
   "execution_count": null,
   "metadata": {},
   "outputs": [],
   "source": []
  }
 ],
 "metadata": {
  "kernelspec": {
   "display_name": "Python 3",
   "language": "python",
   "name": "python3"
  },
  "language_info": {
   "codemirror_mode": {
    "name": "ipython",
    "version": 3
   },
   "file_extension": ".py",
   "mimetype": "text/x-python",
   "name": "python",
   "nbconvert_exporter": "python",
   "pygments_lexer": "ipython3",
   "version": "3.6.4"
  }
 },
 "nbformat": 4,
 "nbformat_minor": 2
}
